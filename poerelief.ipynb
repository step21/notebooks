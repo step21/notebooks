{
 "cells": [
  {
   "cell_type": "code",
   "execution_count": 3,
   "metadata": {},
   "outputs": [],
   "source": [
    "import sqlalchemy\n",
    "conn = sqlalchemy.create_engine('sqlite:///teidb_dev.sqlite').engine.connect()\n",
    "\n",
    "import pandas as pd\n",
    "\n",
    "df1 = pd.read_sql_table('locs', conn)\n",
    "df2 = pd.read_sql_table('urls', conn)\n",
    "df3 = pd.read_sql_table('epidat', conn)\n",
    "\n",
    "#print(len(df1))\n",
    "#print(len(df2))\n",
    "#print(len(df3))"
   ]
  },
  {
   "cell_type": "markdown",
   "metadata": {
    "variables": {
     " print( str(len(df2))) ": "25372",
     " print(str(len(df1))) ": "137",
     " print(str(len(df3))) ": "16171"
    }
   },
   "source": [
    "### The current/original data(base)\n",
    "* Locs {{ print(str(len(df1))) }}\n",
    "* Urls {{ print( str(len(df2))) }}\n",
    "* Epidocs {{ print(str(len(df3))) }}\n"
   ]
  },
  {
   "cell_type": "code",
   "execution_count": 13,
   "metadata": {},
   "outputs": [],
   "source": [
    "import untangle\n",
    "collections_url = \"http://www.steinheim-institut.de/cgi-bin/epidat?info=collections\"\n",
    "udoc = untangle.parse(collections_url)\n",
    "#print(udoc.collections)\n",
    "\n",
    "current_locations = int(len(udoc.collections.collection))"
   ]
  },
  {
   "cell_type": "markdown",
   "metadata": {
    "variables": {
     " current_locations ": "182",
     " len(df1) ": "137"
    }
   },
   "source": [
    "At Steinheim Institute, there are currently {{ current_locations }} locations, compared to the {{ len(df1) }} from some years ago."
   ]
  },
  {
   "cell_type": "code",
   "execution_count": null,
   "metadata": {},
   "outputs": [],
   "source": []
  }
 ],
 "metadata": {
  "kernelspec": {
   "display_name": "Python 2",
   "language": "python",
   "name": "python2"
  },
  "language_info": {
   "codemirror_mode": {
    "name": "ipython",
    "version": 2
   },
   "file_extension": ".py",
   "mimetype": "text/x-python",
   "name": "python",
   "nbconvert_exporter": "python",
   "pygments_lexer": "ipython2",
   "version": "2.7.12"
  }
 },
 "nbformat": 4,
 "nbformat_minor": 1
}
